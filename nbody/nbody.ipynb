{
 "cells": [
  {
   "cell_type": "code",
   "execution_count": 1,
   "id": "0740620d",
   "metadata": {
    "tags": []
   },
   "outputs": [],
   "source": [
    "import numpy as np\n",
    "import cupy as cp\n",
    "import matplotlib.pyplot as plt\n",
    "\n",
    "from tqdm import tqdm"
   ]
  },
  {
   "cell_type": "code",
   "execution_count": 2,
   "id": "8c8e23f6",
   "metadata": {
    "tags": []
   },
   "outputs": [],
   "source": [
    "def get_accelleration(pos, mass, G, softening):\n",
    "    \"\"\" Calculate the acceleration on each particle due to Newton's Law \n",
    "        * pos is an N x 3 matrix of positions\n",
    "        * mass is an N x 1 vector of masses\n",
    "        * G is Newton's Gravitational constant\n",
    "        * softening is the softening length\n",
    "        * a is N x 3 matrix of accelerations\n",
    "    \"\"\"\n",
    "    # positions r = [x,y,z] for all particles\n",
    "    x = pos[:,0:1]\n",
    "    y = pos[:,1:2]\n",
    "    z = pos[:,2:3]\n",
    "\n",
    "    # matrix that stores all pairwise particle separations: r_j - r_i\n",
    "    dx = x.T - x\n",
    "    dy = y.T - y\n",
    "    dz = z.T - z\n",
    "    \n",
    "    # matrix that stores 1/r^3 for all particle pairwise particle separations \n",
    "    inv_r3 = (dx**2 + dy**2 + dz**2 + softening**2)**(-1.5)\n",
    "    #inv_r3[inv_r3>0] = inv_r3[inv_r3>0]**(-1.5)\n",
    "\n",
    "    ax = G * (dx * inv_r3) @ mass\n",
    "    ay = G * (dy * inv_r3) @ mass\n",
    "    az = G * (dz * inv_r3) @ mass\n",
    "\n",
    "    # pack together the acceleration components\n",
    "    a = np.hstack((ax,ay,az))\n",
    "\n",
    "    return a\n"
   ]
  },
  {
   "cell_type": "code",
   "execution_count": 3,
   "id": "0381a356-1ba1-4fce-8bb4-b98d83093ebd",
   "metadata": {
    "tags": []
   },
   "outputs": [
    {
     "name": "stdout",
     "output_type": "stream",
     "text": [
      "CPU times: user 4.38 ms, sys: 3.17 ms, total: 7.54 ms\n",
      "Wall time: 2.61 ms\n"
     ]
    }
   ],
   "source": [
    "%%time\n",
    "N         = 100    # Number of particles\n",
    "softening = 0.1    # softening length\n",
    "G         = 1.0    # Newton's Gravitational Constant\n",
    "\n",
    "mass = 20.0*np.ones((N,1))/N  # total mass of particles is 20\n",
    "pos  = np.random.randn(N,3) \n",
    "\n",
    "#mass = np.array([[10.], [10.]])\n",
    "#pos = np.array([[0.5, 0.5, 0.0], [-0.5, -0.5, 0.0]])\n",
    "\n",
    "a = get_accelleration(pos, mass, G, softening)\n",
    "#a"
   ]
  },
  {
   "cell_type": "code",
   "execution_count": 4,
   "id": "cf4bedc3-b9dc-4bc5-a8b5-d5e7f4f29a94",
   "metadata": {
    "tags": []
   },
   "outputs": [
    {
     "name": "stdout",
     "output_type": "stream",
     "text": [
      "CPU times: user 1.23 s, sys: 358 ms, total: 1.59 s\n",
      "Wall time: 1.96 s\n"
     ]
    }
   ],
   "source": [
    "%%time\n",
    "N         = 10000    # Number of particles\n",
    "mass = 20.0*cp.ones((N,1))/N  # total mass of particles is 20\n",
    "pos  = cp.random.randn(N,3) \n",
    "G = cp.array(1.0)\n",
    "softening = cp.array(0.1)\n",
    "\n",
    "#mass = cp.array([[10.], [10.]])\n",
    "#pos = cp.array([[0.5, 0.5, 0.0], [-0.5, -0.5, 0.0]])\n",
    "#a = get_accelleration(pos, mass, G, softening)\n",
    "a = get_accelleration(pos, mass, G, softening)\n",
    "#a"
   ]
  },
  {
   "cell_type": "markdown",
   "id": "0a41118b",
   "metadata": {},
   "source": [
    "# N-body simulation"
   ]
  },
  {
   "cell_type": "code",
   "execution_count": 5,
   "id": "6038f1df-b90c-4bfd-afe5-62692c94cfcc",
   "metadata": {
    "tags": []
   },
   "outputs": [
    {
     "name": "stderr",
     "output_type": "stream",
     "text": [
      "100%|████████████████████████████████████| 10000/10000 [01:18<00:00, 127.67it/s]\n"
     ]
    }
   ],
   "source": [
    "# Simulation parameters\n",
    "N         = 1000    # Number of particles\n",
    "t         = 0      # current time of the simulation\n",
    "tEnd      = 100.0   # time at which simulation ends\n",
    "dt        = 0.01   # timestep\n",
    "softening = 0.1    # softening length\n",
    "G         = 1.0    # Newton's Gravitational Constant\n",
    "\n",
    "#gpu = False\n",
    "\n",
    "# Generate Initial Conditions\n",
    "np.random.seed(2024)            # set the random number generator seed\n",
    "\n",
    "#mass = np.array([[1000.0],[10.0]]) \n",
    "#pos = np.array([[1e-10, 1e-10, 1e-10], [-1.0, -1.0, 0.0]])\n",
    "#vel = np.array([[0.0, 0.0, 0.0], [-3.0, 3.0, 0.0]])\n",
    "\n",
    "#mass = 20.0*np.ones((N,1))/N  # total mass of particles is 20\n",
    "#pos = np.array([[0.5, 0.5, 0.0], [-0.5, -0.5, 0.0]])\n",
    "#vel = np.array([[0.0, 1.5, 0.0], [0.0, -1.5, 0.0]])\n",
    "#pos  = np.random.randn(N,3)   # randomly selected positions and velocities\n",
    "#vel  = np.random.randn(N,3)\n",
    "\n",
    "mass = 20.0*cp.ones((N,1))/N  # total mass of particles is 20\n",
    "vel  = cp.random.randn(N,3)\n",
    "pos  = cp.random.randn(N,3) \n",
    "G = cp.array(G)\n",
    "softening = cp.array(softening)\n",
    "dt = cp.array(dt)\n",
    "\n",
    "# Convert to Center-of-Mass frame\n",
    "#vel -= np.mean(mass * vel,0) / np.mean(mass)\n",
    "\n",
    "# calculate initial gravitational accelerations\n",
    "acc = get_accelleration(pos, mass, G, softening)\n",
    "\n",
    "# number of timesteps\n",
    "Nt = int(np.ceil(tEnd/dt))\n",
    "\n",
    "# save energies, particle orbits for plotting trails\n",
    "pos_save = cp.zeros((N,3,Nt+1))\n",
    "pos_save[:,:,0] = pos\n",
    "#pos_save[:,:,0] = pos.get()\n",
    "\n",
    "t_all = cp.arange(Nt+1)*dt\n",
    "\n",
    "# Simulation Main Loop\n",
    "for i in tqdm(range(Nt)):\n",
    "    # (1/2) kick\n",
    "    vel += acc * dt/2.0\n",
    "\n",
    "    # drift\n",
    "    pos += vel * dt\n",
    "\n",
    "    # update accelerations\n",
    "    acc = get_accelleration(pos, mass, G, softening )\n",
    "\n",
    "    # (1/2) kick\n",
    "    vel += acc * dt/2.0\n",
    "\n",
    "    # update time\n",
    "    t += dt\n",
    "\n",
    "    # save energies, positions for plotting trail\n",
    "    #pos_save[:,:,i+1] = pos.get()\n",
    "    pos_save[:,:,i+1] = pos\n",
    "       \n",
    "pos_save = pos_save.get()\n",
    "mass = mass.get()"
   ]
  },
  {
   "cell_type": "markdown",
   "id": "f95acd9d",
   "metadata": {},
   "source": [
    "## Plot"
   ]
  },
  {
   "cell_type": "code",
   "execution_count": 6,
   "id": "23ced6c8",
   "metadata": {},
   "outputs": [
    {
     "name": "stderr",
     "output_type": "stream",
     "text": [
      "100%|███████████████████████████████████████| 1000/1000 [16:54<00:00,  1.01s/it]\n"
     ]
    }
   ],
   "source": [
    "for i in tqdm(range(Nt)[slice(None,None,10)]):\n",
    "    fig = plt.figure(figsize=(10, 10))\n",
    "    ax = fig.add_subplot(projection='3d')\n",
    "    \n",
    "    ax.grid(True, color='grey', alpha=0.2)  # Grid lines with transparency\n",
    "    ax.set_facecolor('white')\n",
    "    \n",
    "    x, y, z = pos_save[...,i].T\n",
    "    ax.scatter(x, y, z, marker='o', s=10, color='tab:blue')\n",
    "    if(i < 25):\n",
    "        ax.scatter(pos_save[:,0,:i].T, pos_save[:,1,:i].T, pos_save[:,2,:i].T, marker='o', s=1, color='tab:orange', alpha=0.2)\n",
    "    else:\n",
    "        ax.scatter(pos_save[:,0,i-25:i].T, pos_save[:,1,i-25:i].T, pos_save[:,2,i-25:i].T, marker='o', s=1, color='tab:orange', alpha=0.2)\n",
    "    \n",
    "    pos_cm = np.mean(pos_save[...,i]*mass, axis=0)/np.mean(mass)\n",
    "    ax.set_xlim(pos_cm[0]-2.0, pos_cm[0]+2.0), ax.set_ylim(pos_cm[1]-2.0, pos_cm[1]+2.0), ax.set_zlim(pos_cm[2]-2.0, pos_cm[2]+2.0)\n",
    "    \n",
    "    ax.set_xlabel('x'), ax.set_ylabel('y'), ax.set_zlabel('z')\n",
    "    \n",
    "    plt.savefig('nbody_snapshot/snapshot_%d.png' %i, bbox_inches='tight')\n",
    "    plt.clf(), plt.close()"
   ]
  },
  {
   "cell_type": "markdown",
   "id": "dcf54de2",
   "metadata": {},
   "source": [
    "## Create GIF"
   ]
  },
  {
   "cell_type": "code",
   "execution_count": 37,
   "id": "ca06c935",
   "metadata": {},
   "outputs": [
    {
     "ename": "ModuleNotFoundError",
     "evalue": "No module named 'moviepy'",
     "output_type": "error",
     "traceback": [
      "\u001b[0;31m---------------------------------------------------------------------------\u001b[0m",
      "\u001b[0;31mModuleNotFoundError\u001b[0m                       Traceback (most recent call last)",
      "Cell \u001b[0;32mIn[37], line 1\u001b[0m\n\u001b[0;32m----> 1\u001b[0m \u001b[38;5;28;01mfrom\u001b[39;00m \u001b[38;5;21;01mmoviepy\u001b[39;00m\u001b[38;5;21;01m.\u001b[39;00m\u001b[38;5;21;01meditor\u001b[39;00m \u001b[38;5;28;01mimport\u001b[39;00m ImageSequenceClip\n\u001b[1;32m      3\u001b[0m \u001b[38;5;28;01mdef\u001b[39;00m \u001b[38;5;21mCreateMovie\u001b[39m(filename, array, fps\u001b[38;5;241m=\u001b[39m\u001b[38;5;241m5\u001b[39m, scale\u001b[38;5;241m=\u001b[39m\u001b[38;5;241m1.\u001b[39m, fmt\u001b[38;5;241m=\u001b[39m\u001b[38;5;124m'\u001b[39m\u001b[38;5;124mavi\u001b[39m\u001b[38;5;124m'\u001b[39m):\n\u001b[1;32m      4\u001b[0m \u001b[38;5;250m    \u001b[39m\u001b[38;5;124;03m''' Create and save a gif or video from array of images.\u001b[39;00m\n\u001b[1;32m      5\u001b[0m \u001b[38;5;124;03m        Parameters:\u001b[39;00m\n\u001b[1;32m      6\u001b[0m \u001b[38;5;124;03m            * filename (string): name of the saved video\u001b[39;00m\n\u001b[0;32m   (...)\u001b[0m\n\u001b[1;32m     12\u001b[0m \u001b[38;5;124;03m            * moviepy clip object\u001b[39;00m\n\u001b[1;32m     13\u001b[0m \u001b[38;5;124;03m    '''\u001b[39;00m\n",
      "\u001b[0;31mModuleNotFoundError\u001b[0m: No module named 'moviepy'"
     ]
    }
   ],
   "source": [
    "from moviepy.editor import ImageSequenceClip\n",
    "\n",
    "def CreateMovie(filename, array, fps=5, scale=1., fmt='avi'):\n",
    "    ''' Create and save a gif or video from array of images.\n",
    "        Parameters:\n",
    "            * filename (string): name of the saved video\n",
    "            * array (list or string): array of images name already in order, if string it supposed to be the first part of the images name (before iteration integer)\n",
    "            * fps = 5 (integer): frame per seconds (limit human eye ~ 15)\n",
    "            * scale = 1. (float): ratio factor to scale image hight and width\n",
    "            * fmt (string): file extention of the gif/video (e.g: 'gif', 'mp4' or 'avi')\n",
    "        Return:\n",
    "            * moviepy clip object\n",
    "    '''\n",
    "    if(isinstance(array, str)):\n",
    "        array = np.array(sorted(glob(array+'*.png'), key=os.path.getmtime))\n",
    "    else:\n",
    "        pass\n",
    "    filename += '.'+fmt\n",
    "    clip = ImageSequenceClip(list(array), fps=fps).resize(scale)\n",
    "    if(fmt == 'gif'):\n",
    "        clip.write_gif(filename, fps=fps)\n",
    "    elif(fmt == 'mp4'):\n",
    "        clip.write_videofile(filename, fps=fps, codec='mpeg4')\n",
    "    elif(fmt == 'avi'):\n",
    "        clip.write_videofile(filename, fps=fps, codec='png')\n",
    "    else:\n",
    "        print('Error! Wrong File extension.')\n",
    "        sys.exit()\n",
    "\n",
    "    # print the size of the movie\n",
    "    command = os.popen('du -sh %s' % filename)\n",
    "    print(command.read())\n",
    "    return clip\n"
   ]
  },
  {
   "cell_type": "code",
   "execution_count": null,
   "id": "00d2e6ce",
   "metadata": {},
   "outputs": [],
   "source": [
    "path_out = './nbody_snapshot/'\n",
    "img_arr = ['%ssnapshot_%d.png' %(path_out, i) for i in range(len(glob(path_out+'*png')))]\n",
    "\n",
    "#CreateMovie(filename='movie_HI_IGM_EoR', array=img_arr, fps=15, fmt='avi')\n",
    "CreateMovie(filename='movie_HI_IGM_EoR', array=img_arr, fps=15, fmt='mp4')"
   ]
  }
 ],
 "metadata": {
  "kernelspec": {
   "display_name": "Python 3 (ipykernel)",
   "language": "python",
   "name": "python3"
  },
  "language_info": {
   "codemirror_mode": {
    "name": "ipython",
    "version": 3
   },
   "file_extension": ".py",
   "mimetype": "text/x-python",
   "name": "python",
   "nbconvert_exporter": "python",
   "pygments_lexer": "ipython3",
   "version": "3.10.12"
  }
 },
 "nbformat": 4,
 "nbformat_minor": 5
}

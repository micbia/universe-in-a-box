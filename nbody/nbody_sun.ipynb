{
 "cells": [
  {
   "cell_type": "code",
   "execution_count": 1,
   "id": "0740620d",
   "metadata": {
    "tags": []
   },
   "outputs": [
    {
     "name": "stdout",
     "output_type": "stream",
     "text": [
      "Solar System data saved to 'solar_system.hdf5'\n"
     ]
    }
   ],
   "source": [
    "import numpy as np, os, h5py\n",
    "import cupy as cp\n",
    "import matplotlib.pyplot as plt\n",
    "\n",
    "import astropy.units as u\n",
    "import astropy.constants as cst\n",
    "\n",
    "from glob import glob\n",
    "from tqdm import tqdm\n",
    "from moviepy.editor import ImageSequenceClip\n",
    "\n",
    "from create_ic_solarsystem import solar_system"
   ]
  },
  {
   "cell_type": "code",
   "execution_count": 2,
   "id": "8c8e23f6",
   "metadata": {
    "tags": []
   },
   "outputs": [],
   "source": [
    "def get_accelleration(pos, mass, G, softening):\n",
    "    \"\"\" Calculate the acceleration on each particle due to Newton's Law \n",
    "        \n",
    "        Inputs:\n",
    "            - pos (ndarray): array position of the particles with shape (N,3)\n",
    "            - mass (ndarray): array mass of the particle with shape (N,1)\n",
    "            - G (float): Newton Gravitational constant in the same units as the velocity and postion of the particles\n",
    "            - softening (float): the softening length to avoid numerical infinity\n",
    "        Return:\n",
    "            - a (ndarray): array of the accelleration of the particles with shape (N,3)\n",
    "    \"\"\"\n",
    "    # positions r = [x,y,z] for all particles\n",
    "    r_x = pos[:,0:1]\n",
    "    r_y = pos[:,1:2]\n",
    "    r_z = pos[:,2:3]\n",
    "\n",
    "    # matrix that stores all pairwise particle separations: r_j - r_i\n",
    "    rdx = r_x.T - r_x\n",
    "    rdy = r_y.T - r_y\n",
    "    rdz = r_z.T - r_z\n",
    "    \n",
    "    # matrix that stores 1/r^3 for all particle pairwise particle separations \n",
    "    inv_r3 = (rdx**2 + rdy**2 + rdz**2 + softening)**(-1.5)\n",
    "    \n",
    "    a_x = G * (rdx * inv_r3) @ mass\n",
    "    a_y = G * (rdy * inv_r3) @ mass\n",
    "    a_z = G * (rdz * inv_r3) @ mass\n",
    "    \n",
    "    # pack together the acceleration components\n",
    "    #a = np.vstack((a_x, a_y, a_z))\n",
    "    a = np.array([a_x, a_y, a_z]).T\n",
    "\n",
    "    return a"
   ]
  },
  {
   "cell_type": "markdown",
   "id": "0a41118b",
   "metadata": {},
   "source": [
    "# N-body simulation\n",
    "\n",
    "Simulation parameters and constants"
   ]
  },
  {
   "cell_type": "code",
   "execution_count": 17,
   "id": "927d630a-7e96-4af5-b3c6-a8221f603548",
   "metadata": {
    "tags": []
   },
   "outputs": [
    {
     "data": {
      "text/plain": [
       "0.00029591220819207774"
      ]
     },
     "execution_count": 17,
     "metadata": {},
     "output_type": "execute_result"
    }
   ],
   "source": [
    "# time start, time-step and time end\n",
    "t_start, t_end, dt = (0.0*u.day).value, (10*365.0*u.day).value, (1.0*u.day).value\n",
    "\n",
    "# softening length\n",
    "softening = (1e-12 *u.AU).value\n",
    "\n",
    "# Newton's Gravitational constant\n",
    "cst.G.to('AU^3/(Msun*day^2)').value"
   ]
  },
  {
   "cell_type": "code",
   "execution_count": 8,
   "id": "0613b6f1-6690-4ead-8f74-018d71a1f940",
   "metadata": {
    "tags": []
   },
   "outputs": [
    {
     "name": "stdout",
     "output_type": "stream",
     "text": [
      "['Sun', 'Earth', 'Jupiter', \"Halley's Comet\"] (4, 3)\n",
      "[1.000e+00 3.003e-06 9.545e-04 1.106e-16]\n",
      "[[0.    0.    0.   ]\n",
      " [1.    0.    0.   ]\n",
      " [5.202 0.    0.   ]\n",
      " [0.586 0.    0.   ]]\n",
      "[[0.         0.         0.        ]\n",
      " [0.         0.01719795 0.        ]\n",
      " [0.         0.00756525 0.        ]\n",
      " [0.         0.0314853  0.        ]]\n"
     ]
    }
   ],
   "source": [
    "# Constants\n",
    "#particle_names = solar_system.keys()\n",
    "particle_names = ['Sun', 'Earth', 'Jupiter', \"Halley's Comet\"]\n",
    "\n",
    "mass = np.array([solar_system[key]['mass'] for key in particle_names]) #* u.Msun\n",
    "pos = np.array([solar_system[key]['position'] for key in particle_names]) #* u.AU\n",
    "vel = np.array([solar_system[key]['velocity'] for key in particle_names]) #* u.AU/u.day\n",
    "\n",
    "# Number of particles\n",
    "N = pos.shape[0]\n",
    "\n",
    "print(particle_names, pos.shape)\n",
    "print(mass)\n",
    "print(pos)\n",
    "print(vel)"
   ]
  },
  {
   "cell_type": "code",
   "execution_count": 9,
   "id": "6038f1df-b90c-4bfd-afe5-62692c94cfcc",
   "metadata": {
    "tags": []
   },
   "outputs": [
    {
     "name": "stderr",
     "output_type": "stream",
     "text": [
      "100%|█████████████████████████████████████| 3650/3650 [00:00<00:00, 6748.19it/s]\n"
     ]
    }
   ],
   "source": [
    "# calculate initial gravitational accelerations\n",
    "acc = get_accelleration(pos, mass, G_grav, softening)\n",
    "\n",
    "# number of timesteps\n",
    "Nt = int(np.ceil(t_end/dt))\n",
    "\n",
    "# save particle orbits\n",
    "pos_save = np.zeros((N,3,Nt+1))\n",
    "pos_save[:,:,0] = pos\n",
    "\n",
    "t_all = np.arange(Nt+1)*dt\n",
    "t = t_start\n",
    "\n",
    "# Simulation Main Loop\n",
    "for i in tqdm(range(Nt)):\n",
    "    # (1/2) kick\n",
    "    vel += acc * dt/2.0\n",
    "\n",
    "    # drift\n",
    "    pos += vel * dt\n",
    "\n",
    "    # update accelerations\n",
    "    acc = get_accelleration(pos, mass, cst.G.to('AU^3/(Msun*day^2)').value, softening)\n",
    "\n",
    "    # (1/2) kick\n",
    "    vel += acc * dt/2.0\n",
    "\n",
    "    # update time\n",
    "    t += dt\n",
    "\n",
    "    # save energies, positions for plotting trail\n",
    "    pos_save[:,:,i+1] = pos"
   ]
  },
  {
   "cell_type": "markdown",
   "id": "f95acd9d",
   "metadata": {},
   "source": [
    "## Plot"
   ]
  },
  {
   "cell_type": "code",
   "execution_count": 16,
   "id": "23ced6c8",
   "metadata": {
    "tags": []
   },
   "outputs": [
    {
     "name": "stderr",
     "output_type": "stream",
     "text": [
      "100%|███████████████████████████████████████| 3651/3651 [07:16<00:00,  8.37it/s]\n"
     ]
    }
   ],
   "source": [
    "path_out = './plot_solarsystem/'\n",
    "i_start = len(glob(path_out+'snapshot_*.png'))\n",
    "\n",
    "xyz_scale = 5\n",
    "#xyz_scale = 1150\n",
    "\n",
    "for i in tqdm(range(i_start, Nt+1)):\n",
    "    fig = plt.figure(figsize=(10, 10))\n",
    "    ax = fig.add_subplot(projection='3d')\n",
    "    \n",
    "    ax.grid(True, color='grey', alpha=0.2)  # Grid lines with transparency\n",
    "    ax.set_facecolor('white')\n",
    "    \n",
    "    x, y, z = pos_save[...,i].T\n",
    "    ax.scatter(x, y, z, marker='o', s=20, color='tab:blue')\n",
    "    \n",
    "    if(i < 25):\n",
    "        ax.scatter(pos_save[:,0,:i].T, pos_save[:,1,:i].T, pos_save[:,2,:i].T, marker='o', s=5, color='tab:orange', alpha=0.2)\n",
    "    else:\n",
    "        ax.scatter(pos_save[:,0,i-25:i].T, pos_save[:,1,i-25:i].T, pos_save[:,2,i-25:i].T, marker='o', s=5, color='tab:orange', alpha=0.2)\n",
    "    \n",
    "    pos_cm = np.mean(pos_save[...,i]*mass[...,None], axis=0)/np.mean(mass)\n",
    "    ax.set_xlim(pos_cm[0]-xyz_scale, pos_cm[0]+xyz_scale), ax.set_ylim(pos_cm[1]-xyz_scale, pos_cm[1]+xyz_scale), ax.set_zlim(pos_cm[2]-xyz_scale, pos_cm[2]+xyz_scale)\n",
    "    \n",
    "    ax.set_xlabel('x [AU]'), ax.set_ylabel('y [AU]'), ax.set_zlabel('z [AU]')\n",
    "    \n",
    "    plt.savefig(path_out+'snapshot_%d.png' %i, bbox_inches='tight')\n",
    "    plt.clf(), plt.close()"
   ]
  },
  {
   "cell_type": "markdown",
   "id": "dcf54de2",
   "metadata": {},
   "source": [
    "## Create GIF"
   ]
  },
  {
   "cell_type": "code",
   "execution_count": 18,
   "id": "ca06c935",
   "metadata": {
    "tags": []
   },
   "outputs": [],
   "source": [
    "def CreateMovie(filename, array, fps=5, scale=1., fmt='avi'):\n",
    "    ''' Create and save a gif or video from array of images.\n",
    "        Parameters:\n",
    "            * filename (string): name of the saved video\n",
    "            * array (list or string): array of images name already in order, if string it supposed to be the first part of the images name (before iteration integer)\n",
    "            * fps = 5 (integer): frame per seconds (limit human eye ~ 15)\n",
    "            * scale = 1. (float): ratio factor to scale image hight and width\n",
    "            * fmt (string): file extention of the gif/video (e.g: 'gif', 'mp4' or 'avi')\n",
    "        Return:\n",
    "            * moviepy clip object\n",
    "    '''\n",
    "    if(isinstance(array, str)):\n",
    "        array = np.array(sorted(glob(array+'*.png'), key=os.path.getmtime))\n",
    "    else:\n",
    "        pass\n",
    "    filename += '.'+fmt\n",
    "    clip = ImageSequenceClip(list(array), fps=fps).resize(scale)\n",
    "    if(fmt == 'gif'):\n",
    "        clip.write_gif(filename, fps=fps)\n",
    "    elif(fmt == 'mp4'):\n",
    "        clip.write_videofile(filename, fps=fps, codec='mpeg4')\n",
    "    elif(fmt == 'avi'):\n",
    "        clip.write_videofile(filename, fps=fps, codec='png')\n",
    "    else:\n",
    "        print('Error! Wrong File extension.')\n",
    "        sys.exit()\n",
    "\n",
    "    # print the size of the movie\n",
    "    command = os.popen('du -sh %s' % filename)\n",
    "    print(command.read())\n",
    "    return clip\n"
   ]
  },
  {
   "cell_type": "code",
   "execution_count": 19,
   "id": "00d2e6ce",
   "metadata": {
    "tags": []
   },
   "outputs": [
    {
     "name": "stdout",
     "output_type": "stream",
     "text": [
      "Moviepy - Building video solar_system.avi.\n",
      "Moviepy - Writing video solar_system.avi\n",
      "\n"
     ]
    },
    {
     "name": "stderr",
     "output_type": "stream",
     "text": [
      "                                                                                "
     ]
    },
    {
     "name": "stdout",
     "output_type": "stream",
     "text": [
      "Moviepy - Done !\n",
      "Moviepy - video ready solar_system.avi\n",
      "270M\tsolar_system.avi\n",
      "\n"
     ]
    },
    {
     "name": "stderr",
     "output_type": "stream",
     "text": [
      "\r"
     ]
    },
    {
     "data": {
      "text/plain": [
       "<moviepy.video.io.ImageSequenceClip.ImageSequenceClip at 0x7be3235268f0>"
      ]
     },
     "execution_count": 19,
     "metadata": {},
     "output_type": "execute_result"
    }
   ],
   "source": [
    "img_arr = ['%ssnapshot_%d.png' %(path_out, i) for i in range(len(glob(path_out+'*png')))]\n",
    "\n",
    "#CreateMovie(filename='earth_sun_system', array=img_arr, fps=15, fmt='avi')\n",
    "CreateMovie(filename='solar_system', array=img_arr, fps=15, fmt='avi')"
   ]
  },
  {
   "cell_type": "code",
   "execution_count": 21,
   "id": "9859e1db-399d-4fbe-aa4e-ffb41d237648",
   "metadata": {},
   "outputs": [
    {
     "data": {
      "text/plain": [
       "array([-20.4855863 ,   4.08417744,   0.        ])"
      ]
     },
     "execution_count": 21,
     "metadata": {},
     "output_type": "execute_result"
    }
   ],
   "source": [
    "pos_save[3,:,-1]"
   ]
  },
  {
   "cell_type": "code",
   "execution_count": null,
   "id": "5d8c0846",
   "metadata": {},
   "outputs": [],
   "source": []
  }
 ],
 "metadata": {
  "kernelspec": {
   "display_name": "Python 3 (ipykernel)",
   "language": "python",
   "name": "python3"
  },
  "language_info": {
   "codemirror_mode": {
    "name": "ipython",
    "version": 3
   },
   "file_extension": ".py",
   "mimetype": "text/x-python",
   "name": "python",
   "nbconvert_exporter": "python",
   "pygments_lexer": "ipython3",
   "version": "3.10.12"
  }
 },
 "nbformat": 4,
 "nbformat_minor": 5
}

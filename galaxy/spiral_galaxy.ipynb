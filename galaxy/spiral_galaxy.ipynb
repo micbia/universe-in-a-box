{
 "cells": [
  {
   "cell_type": "code",
   "execution_count": 2,
   "id": "817cefe4",
   "metadata": {},
   "outputs": [],
   "source": [
    "import numpy as np\n",
    "from make_galaxy import Galaxy\n",
    "import matplotlib.pyplot as plt\n",
    "\n",
    "plt.style.use('dark_background')\n",
    "get_ipython().run_line_magic('matplotlib', 'qt')"
   ]
  },
  {
   "cell_type": "markdown",
   "id": "f9089f85",
   "metadata": {},
   "source": [
    "# Generate a Galaxy"
   ]
  },
  {
   "cell_type": "code",
   "execution_count": 3,
   "id": "be9399c2",
   "metadata": {},
   "outputs": [],
   "source": [
    "gal = Galaxy(kpc_size=17.5, b=-0.3, num_arms=2, rot_spacing=None, trail_delay=0.1, fuzz=1.5, nr_core_part=3000, nr_arm_part=1000, nr_haze_part=2000)\n",
    "\n",
    "arms_info = gal.arms_info\n",
    "build = gal.build_galaxy(r_in=2, z_in=0.5, r_out=1, z_out=0.3)"
   ]
  },
  {
   "cell_type": "code",
   "execution_count": 4,
   "id": "3ac0152d",
   "metadata": {},
   "outputs": [
    {
     "data": {
      "text/plain": [
       "<mpl_toolkits.mplot3d.art3d.Path3DCollection at 0x760fdb386470>"
      ]
     },
     "execution_count": 4,
     "metadata": {},
     "output_type": "execute_result"
    }
   ],
   "source": [
    "# Plot stars in 3D using matplotlib:\n",
    "fig, ax = plt.subplots(figsize=(5, 5), ncols=1, nrows=1, subplot_kw={'projection': '3d'})\n",
    "ax.set_axis_off()\n",
    "ax.set_zlim (-15, 15)\n",
    "\n",
    "leading_arm = build['leading_arm']\n",
    "trailing_arm = build['trailing_arm']\n",
    "core_parts = build['core_parts']\n",
    "inner_haze = build['inner_haze']\n",
    "outer_haze = build['outer_haze']\n",
    "\n",
    "ax.scatter(*zip(*leading_arm), c='w', marker='.', s=5)\n",
    "ax.scatter(*zip(*trailing_arm), c='w', marker='.', s=2)\n",
    "ax.scatter(*zip(*core_parts), c='yellow', marker='.', s=1)\n",
    "ax.scatter(*zip(*inner_haze), c='cyan', marker='.', s=1)\n",
    "ax.scatter(*zip(*outer_haze), c='lime', marker='.', s=1)"
   ]
  },
  {
   "cell_type": "code",
   "execution_count": 5,
   "id": "d5484a5f",
   "metadata": {},
   "outputs": [
    {
     "data": {
      "text/plain": [
       "[(0.0, 1.5), (-0.1, 1.5), (1.0, 1.5), (0.9, 1.5)]"
      ]
     },
     "execution_count": 5,
     "metadata": {},
     "output_type": "execute_result"
    }
   ],
   "source": [
    "arms_info"
   ]
  },
  {
   "cell_type": "code",
   "execution_count": 6,
   "id": "0f59a985",
   "metadata": {},
   "outputs": [],
   "source": [
    "parts = gal.get_particles(r_in=2, z_in=0.5, r_out=1, z_out=0.3)\n",
    "\n",
    "arm_particles = parts['arm']\n",
    "core_particles = parts['core']\n",
    "haze_particles = parts['haze']"
   ]
  },
  {
   "cell_type": "code",
   "execution_count": 7,
   "id": "a69696b0",
   "metadata": {},
   "outputs": [],
   "source": [
    "g_part = np.vstack((np.vstack((arm_particles, core_particles)), haze_particles))"
   ]
  }
 ],
 "metadata": {
  "kernelspec": {
   "display_name": "Python 3 (ipykernel)",
   "language": "python",
   "name": "python3"
  },
  "language_info": {
   "codemirror_mode": {
    "name": "ipython",
    "version": 3
   },
   "file_extension": ".py",
   "mimetype": "text/x-python",
   "name": "python",
   "nbconvert_exporter": "python",
   "pygments_lexer": "ipython3",
   "version": "3.10.12"
  }
 },
 "nbformat": 4,
 "nbformat_minor": 5
}
